{
 "cells": [
  {
   "cell_type": "markdown",
   "id": "4b75abe9",
   "metadata": {},
   "source": [
    "## Question 2"
   ]
  },
  {
   "cell_type": "raw",
   "id": "d17b674e",
   "metadata": {},
   "source": [
    "WAP to get the Social Links, Email & Contacts details of a website on user input.\n",
    "\n",
    "Input:\n",
    "\n",
    "https://ful.io\n",
    "\n",
    "Output:\n",
    "\n",
    "Social links -\n",
    "\n",
    "https://www.facebook.com/fulioTech/\n",
    "\n",
    "https://www.linkedin.com/company/ful-io/\n",
    "\n",
    "Email/ssupport@ful.io\n",
    "Contact:\n",
    "+1 343 303 6668"
   ]
  },
  {
   "cell_type": "markdown",
   "id": "f6468f19",
   "metadata": {},
   "source": [
    "## Solution"
   ]
  },
  {
   "cell_type": "code",
   "execution_count": 1,
   "id": "a4804ff0",
   "metadata": {},
   "outputs": [
    {
     "name": "stdout",
     "output_type": "stream",
     "text": [
      "Enter the website URL: https://ful.io\n",
      "Social links:\n",
      "https://www.facebook.com/fulioTech/\n",
      "https://www.linkedin.com/company/ful-io/\n",
      "\n",
      "Emails:\n",
      "support@ful.io\n",
      "\n",
      "Contacts:\n",
      "+1 343 303 6668\n"
     ]
    }
   ],
   "source": [
    "import re\n",
    "import requests\n",
    "from bs4 import BeautifulSoup\n",
    "\n",
    "def get_website_info(url):\n",
    "    response = requests.get(url)\n",
    "    if response.status_code == 200:\n",
    "        soup = BeautifulSoup(response.content, \"html.parser\")\n",
    "        \n",
    "        # Extract social links\n",
    "        social_links = []\n",
    "        for link in soup.find_all(\"a\", href=True):\n",
    "            href = link[\"href\"]\n",
    "            if \"facebook\" in href or \"linkedin\" in href or \"twitter\" in href:\n",
    "                social_links.append(href)\n",
    "        \n",
    "        # Extract email addresses using a simple regex pattern\n",
    "        email_pattern = r'\\b[A-Za-z0-9._%+-]+@[A-Za-z0-9.-]+\\.[A-Z|a-z]{2,7}\\b'\n",
    "        emails = re.findall(email_pattern, response.text)\n",
    "        \n",
    "        # Extract contact numbers using a regex pattern\n",
    "        contact_pattern = r'(\\+\\d{1,2}\\s*\\d{2,3}\\s*\\d{3,4}\\s*\\d{4})'\n",
    "        contacts = re.findall(contact_pattern, response.text)\n",
    "        \n",
    "        return social_links, emails, contacts\n",
    "    else:\n",
    "        return [], [], []\n",
    "\n",
    "# Get user input\n",
    "user_input = input(\"Enter the website URL: \")\n",
    "social_links, emails, contacts = get_website_info(user_input)\n",
    "\n",
    "# Print output\n",
    "print(\"Social links:\")\n",
    "for link in social_links:\n",
    "    print(link)\n",
    "\n",
    "print(\"\\nEmails:\")\n",
    "for email in emails:\n",
    "    print(email)\n",
    "\n",
    "print(\"\\nContacts:\")\n",
    "for contact in contacts:\n",
    "    print(contact)\n"
   ]
  },
  {
   "cell_type": "code",
   "execution_count": null,
   "id": "05b6fc0d",
   "metadata": {},
   "outputs": [],
   "source": []
  }
 ],
 "metadata": {
  "kernelspec": {
   "display_name": "Python 3 (ipykernel)",
   "language": "python",
   "name": "python3"
  },
  "language_info": {
   "codemirror_mode": {
    "name": "ipython",
    "version": 3
   },
   "file_extension": ".py",
   "mimetype": "text/x-python",
   "name": "python",
   "nbconvert_exporter": "python",
   "pygments_lexer": "ipython3",
   "version": "3.8.17"
  }
 },
 "nbformat": 4,
 "nbformat_minor": 5
}
