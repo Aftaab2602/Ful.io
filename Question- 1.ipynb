{
 "cells": [
  {
   "cell_type": "markdown",
   "id": "9417fb53",
   "metadata": {},
   "source": [
    "## Question 1"
   ]
  },
  {
   "cell_type": "markdown",
   "id": "9d1a33a3",
   "metadata": {},
   "source": [
    "WAP to check if the given contact number is valid or invalid using regular expressions-\n",
    "\n",
    "(Summary: Different country has a different type of representation on how they write their contact\n",
    "numbers, and the same number can be written in all kinds of other formats, so you have to\n",
    "analyse if the given number is valid or not based on your understanding).\n",
    "Examples of different formats of numbers found on websites:\n",
    "* 2124567890\n",
    "* 212-456-7890\n",
    "* (212)456-7890\n",
    "* (212)-456-7890\n",
    "* 212.456.7890\n",
    "* 212 456 7890\n",
    "* +12124567890\n",
    "* +12124567890\n",
    "* +1 212.456.7890\n",
    "* +212-456-7890\n",
    "* 1-212-456-7890\n",
    "\n",
    "As we can see above these are all the same numbers written in a different format, but they all are\n",
    "valid numbers. If you cannot prove all of them to be valid numbers, hoping to have at least 5 of\n",
    "them correctly to pass this.\n",
    "HINT: The standard format is - [+][country code][area code][local phone number]"
   ]
  },
  {
   "cell_type": "markdown",
   "id": "0d2dac1f",
   "metadata": {},
   "source": [
    "## Solution"
   ]
  },
  {
   "cell_type": "code",
   "execution_count": 1,
   "id": "de757fe4",
   "metadata": {},
   "outputs": [
    {
     "name": "stdout",
     "output_type": "stream",
     "text": [
      "2124567890 is a valid contact number.\n",
      "212-456-7890 is a valid contact number.\n",
      "(212)456-7890 is a valid contact number.\n",
      "(212)-456-7890 is a valid contact number.\n",
      "212.456.7890 is an invalid contact number.\n",
      "212 456 7890 is an invalid contact number.\n",
      "+12124567890 is a valid contact number.\n",
      "+1 212.456.7890 is an invalid contact number.\n",
      "+212-456-7890 is a valid contact number.\n",
      "1-212-456-7890 is a valid contact number.\n"
     ]
    }
   ],
   "source": [
    "import re\n",
    "\n",
    "def validate_contact_number(number):\n",
    "    # Define the regular expression pattern for valid contact numbers\n",
    "    pattern = r'^(\\+?\\d{0,2}-?)?(\\d{1,4}-?)?(\\d{3}-?|\\(\\d{3}\\)[-.]?)(\\d{3}-?|\\(\\d{3}\\)[-.]?)(\\d{4})$'\n",
    "    \n",
    "    # Check if the number matches the pattern\n",
    "    if re.match(pattern, number):\n",
    "        return True\n",
    "    else:\n",
    "        return False\n",
    "\n",
    "# Test cases\n",
    "test_numbers = [\n",
    "    \"2124567890\",\n",
    "    \"212-456-7890\",\n",
    "    \"(212)456-7890\",\n",
    "    \"(212)-456-7890\",\n",
    "    \"212.456.7890\",\n",
    "    \"212 456 7890\",\n",
    "    \"+12124567890\",\n",
    "    \"+1 212.456.7890\",\n",
    "    \"+212-456-7890\",\n",
    "    \"1-212-456-7890\"\n",
    "]\n",
    "\n",
    "for number in test_numbers:\n",
    "    if validate_contact_number(number):\n",
    "        print(f\"{number} is a valid contact number.\")\n",
    "    else:\n",
    "        print(f\"{number} is an invalid contact number.\")\n"
   ]
  },
  {
   "cell_type": "code",
   "execution_count": null,
   "id": "841fb3a3",
   "metadata": {},
   "outputs": [],
   "source": []
  }
 ],
 "metadata": {
  "kernelspec": {
   "display_name": "Python 3 (ipykernel)",
   "language": "python",
   "name": "python3"
  },
  "language_info": {
   "codemirror_mode": {
    "name": "ipython",
    "version": 3
   },
   "file_extension": ".py",
   "mimetype": "text/x-python",
   "name": "python",
   "nbconvert_exporter": "python",
   "pygments_lexer": "ipython3",
   "version": "3.8.17"
  }
 },
 "nbformat": 4,
 "nbformat_minor": 5
}
